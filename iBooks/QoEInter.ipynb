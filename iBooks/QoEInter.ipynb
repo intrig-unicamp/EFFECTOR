{
 "cells": [
  {
   "cell_type": "code",
   "execution_count": 1,
   "metadata": {},
   "outputs": [],
   "source": [
    "import pandas as pd\n",
    "import matplotlib.pyplot as plt\n",
    "from ipywidgets import *\n",
    "%matplotlib inline"
   ]
  },
  {
   "cell_type": "code",
   "execution_count": 2,
   "metadata": {},
   "outputs": [],
   "source": [
    "qoe = pd.read_csv('data/45g - qoe.csv')"
   ]
  },
  {
   "cell_type": "code",
   "execution_count": 3,
   "metadata": {},
   "outputs": [
    {
     "data": {
      "text/plain": [
       "Index(['Video', 'intExpID', 'Type', 'Case', 'Protocol', 'total_users',\n",
       "       'user_no', 'intSeg', 'intArr', 'intDel', 'intSta', 'intRep',\n",
       "       'intDelRate', 'intActRate', 'intByteSize', 'floatBuf', 'algorithm_used',\n",
       "       'seg_Dur', 'width', 'height', 'resolutions', 'Clae', 'Duanmu', 'Yin',\n",
       "       'Yu', 'P1203'],\n",
       "      dtype='object')"
      ]
     },
     "execution_count": 3,
     "metadata": {},
     "output_type": "execute_result"
    }
   ],
   "source": [
    "qoe.columns"
   ]
  },
  {
   "cell_type": "code",
   "execution_count": 7,
   "metadata": {},
   "outputs": [],
   "source": [
    "def interactive_contol(Algorithm, Video, Target):\n",
    "    res = qoe[(qoe['algorithm_used']==Algorithm) & (qoe['Video']==Video)]\n",
    "    four_g = res[(res['Type']=='4g')]\n",
    "    five_g = res[(res['Type']=='5g')]\n",
    "    fig, axes = plt.subplots(nrows=1, ncols=2,figsize=(6,4))\n",
    "    #plt.subplot(1,3,1)\n",
    "    axes[0].scatter(four_g['intSeg'], four_g[Target], color='r',marker='x', label='4G')\n",
    "    axes[0].set_title('4G')\n",
    "    axes[1].scatter(five_g['intSeg'], five_g[Target], color='g', marker='d', label='5G')\n",
    "    axes[1].set_title('5G')\n",
    "    fig.text(0.5, 0, 'Segments (2s)', ha='center')\n",
    "    fig.text(0, 0.5, Target, va='center', rotation='vertical')\n",
    "    plt.tight_layout()"
   ]
  },
  {
   "cell_type": "code",
   "execution_count": 8,
   "metadata": {},
   "outputs": [
    {
     "data": {
      "application/vnd.jupyter.widget-view+json": {
       "model_id": "777022974efb49a9b25e8ecabc9546dd",
       "version_major": 2,
       "version_minor": 0
      },
      "text/plain": [
       "interactive(children=(Dropdown(description='Algorithm', options=('bba', 'elastic', 'conventional'), value='bba…"
      ]
     },
     "metadata": {},
     "output_type": "display_data"
    },
    {
     "data": {
      "text/plain": [
       "<function __main__.interactive_contol(Algorithm, Video, Target)>"
      ]
     },
     "execution_count": 8,
     "metadata": {},
     "output_type": "execute_result"
    }
   ],
   "source": [
    "interact(interactive_contol,Algorithm=['bba', 'elastic','conventional'], Video=['sintel','tears'],\n",
    "        Target=['intArr', 'intDel', 'intSta', 'intRep',\n",
    "       'intDelRate', 'intActRate', 'intByteSize', 'floatBuf','resolutions', 'Clae', 'Duanmu', 'Yin',\n",
    "       'Yu', 'P1203'])\n"
   ]
  },
  {
   "cell_type": "code",
   "execution_count": null,
   "metadata": {},
   "outputs": [],
   "source": [
    "# QoE Ends"
   ]
  }
 ],
 "metadata": {
  "kernelspec": {
   "display_name": "Python 3",
   "language": "python",
   "name": "python3"
  },
  "language_info": {
   "codemirror_mode": {
    "name": "ipython",
    "version": 3
   },
   "file_extension": ".py",
   "mimetype": "text/x-python",
   "name": "python",
   "nbconvert_exporter": "python",
   "pygments_lexer": "ipython3",
   "version": "3.8.5"
  }
 },
 "nbformat": 4,
 "nbformat_minor": 4
}
