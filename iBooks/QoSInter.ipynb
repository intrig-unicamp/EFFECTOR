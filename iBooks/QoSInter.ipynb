{
 "cells": [
  {
   "cell_type": "code",
   "execution_count": 166,
   "metadata": {},
   "outputs": [],
   "source": [
    "import pandas as pd\n",
    "import matplotlib.pyplot as plt\n",
    "from ipywidgets import *\n",
    "%matplotlib inline"
   ]
  },
  {
   "cell_type": "code",
   "execution_count": 167,
   "metadata": {},
   "outputs": [],
   "source": [
    "qos = pd.read_csv('data/45g - qos_old.csv')"
   ]
  },
  {
   "cell_type": "code",
   "execution_count": 168,
   "metadata": {},
   "outputs": [],
   "source": [
    "def interactive_contol(Algorithm, Video,  Experiment, Trace,Target):\n",
    "    res = qos[(qos['Algo']==Algorithm) & (qos['Video']==Video) & (qos['Experiment']==Experiment) & (qos['Trace']==Trace) ]\n",
    "    four_g = res[(res['Case']=='4g')]\n",
    "    five_g = res[(res['Case']=='5g')]\n",
    "    fig, axes = plt.subplots(nrows=2, ncols=1,figsize=(6,4))\n",
    "    #plt.subplot(1,3,1)\n",
    "    axes[0].scatter(four_g['timeslot sec'], four_g[Target], color='r',marker='x', label='4G')\n",
    "    axes[0].set_title('4G')\n",
    "    axes[1].scatter(five_g['timeslot sec'], five_g[Target], color='g', marker='x', label='5G')\n",
    "    axes[1].set_title('5G')\n",
    "    fig.text(0.5, 0, 'Time/s', ha='center')\n",
    "    fig.text(0, 0.5, Target, va='center', rotation='vertical')\n",
    "    plt.tight_layout()"
   ]
  },
  {
   "cell_type": "code",
   "execution_count": 169,
   "metadata": {},
   "outputs": [
    {
     "data": {
      "application/vnd.jupyter.widget-view+json": {
       "model_id": "21685e7cc7594328812636462c535325",
       "version_major": 2,
       "version_minor": 0
      },
      "text/plain": [
       "interactive(children=(Dropdown(description='Algorithm', options=('bba', 'elastic', 'conventional'), value='bba…"
      ]
     },
     "metadata": {},
     "output_type": "display_data"
    },
    {
     "data": {
      "text/plain": [
       "<function __main__.interactive_contol(Algorithm, Video, Experiment, Trace, Target)>"
      ]
     },
     "execution_count": 169,
     "metadata": {},
     "output_type": "execute_result"
    }
   ],
   "source": [
    "interact(interactive_contol,Algorithm=['bba', 'elastic','conventional'], Video=['Sintel'],\n",
    "        Experiment= [1,2,3], Trace = [1,2,3,4,5], Target=['IAT', 'IPG Avg', 'IPG Avg GT100', 'IAT GT100',\n",
    "       'Throughput', 'Total Packets', 'Total Packet GT100', '10p Length',\n",
    "       '20p Length', '30p Length', '40p Length', '50p Length', '60p Length',\n",
    "       '70p Length', '80p Length', '90p Length', '10p TP', '20p TP', '30p TP',\n",
    "       '40p TP', '50p TP', '60p TP', '70p TP', '80p TP', '90p TP',\n",
    "       'Single EMA', 'Double EMA', 'CUSUM'])\n"
   ]
  }
 ],
 "metadata": {
  "kernelspec": {
   "display_name": "Python 3",
   "language": "python",
   "name": "python3"
  },
  "language_info": {
   "codemirror_mode": {
    "name": "ipython",
    "version": 3
   },
   "file_extension": ".py",
   "mimetype": "text/x-python",
   "name": "python",
   "nbconvert_exporter": "python",
   "pygments_lexer": "ipython3",
   "version": "3.8.5"
  }
 },
 "nbformat": 4,
 "nbformat_minor": 4
}
